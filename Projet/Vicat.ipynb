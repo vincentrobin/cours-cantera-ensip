{
 "cells": [
  {
   "cell_type": "markdown",
   "id": "cc3d83ba-7b5f-43f6-9f23-95b171c7e8e1",
   "metadata": {},
   "source": [
    "# Optimisation des Performances d’un Épurateur de Fumée (RTO) pour le traitement d’H2S"
   ]
  },
  {
   "cell_type": "code",
   "execution_count": 1,
   "id": "bf3b95bb-cd39-475a-8c82-69d587bc40b9",
   "metadata": {},
   "outputs": [],
   "source": [
    "import cantera as ct\n",
    "import numpy as np\n",
    "import matplotlib.pyplot as plt"
   ]
  },
  {
   "cell_type": "markdown",
   "id": "ca6e7e90-cde5-4e22-bcf6-5ebb987c10bc",
   "metadata": {},
   "source": [
    "## ETAPE 1 : Définition d'une composition représentative du gaz à l'entrée de l'épurateur (sortie de four cimenterie)"
   ]
  },
  {
   "cell_type": "code",
   "execution_count": 12,
   "id": "dbb756fe-9abe-4a37-af63-5010d04b89bf",
   "metadata": {},
   "outputs": [
    {
     "name": "stdout",
     "output_type": "stream",
     "text": [
      "\n",
      "  gri30:\n",
      "\n",
      "       temperature   1080.8 K\n",
      "          pressure   1.0132e+05 Pa\n",
      "           density   0.23279 kg/m^3\n",
      "  mean mol. weight   20.646 kg/kmol\n",
      "   phase of matter   gas\n",
      "\n",
      "                          1 kg             1 kmol     \n",
      "                     ---------------   ---------------\n",
      "          enthalpy       -3.7822e+05       -7.8087e+06  J\n",
      "   internal energy       -8.1348e+05       -1.6795e+07  J\n",
      "           entropy             10885        2.2474e+05  J/K\n",
      "    Gibbs function       -1.2143e+07       -2.5071e+08  J\n",
      " heat capacity c_p            1596.9             32970  J/K\n",
      " heat capacity c_v            1194.2             24656  J/K\n",
      "\n",
      "                      mass frac. Y      mole frac. X     chem. pot. / RT\n",
      "                     ---------------   ---------------   ---------------\n",
      "                H2          0.027745           0.28414           -18.961\n",
      "                 H        4.3679e-10        8.9464e-09           -9.4803\n",
      "                OH        1.5301e-12        1.8575e-12           -46.743\n",
      "               H2O          0.013072          0.014981           -56.224\n",
      "               CH3        6.7501e-10        9.2692e-10            -30.83\n",
      "               CH4         0.0012628         0.0016252            -40.31\n",
      "                CO           0.28943           0.21334           -39.652\n",
      "               CO2          0.025263          0.011852           -76.915\n",
      "               HCO        4.3466e-11        3.0926e-11           -49.132\n",
      "              CH2O         4.653e-08        3.1994e-08           -58.612\n",
      "             CH3OH         3.001e-10        1.9336e-10           -77.573\n",
      "              C2H2        6.8527e-10        5.4336e-10           -23.738\n",
      "              C2H4        2.0236e-08        1.4892e-08           -42.699\n",
      "              C2H5        5.4021e-14        3.8377e-14           -52.179\n",
      "              C2H6        4.6191e-09        3.1715e-09           -61.659\n",
      "             CH2CO        4.4917e-10        2.2061e-10           -61.001\n",
      "               NH2        1.0567e-12        1.3616e-12           -31.861\n",
      "               NH3        3.0607e-05        3.7103e-05           -41.342\n",
      "               HCN        6.2264e-06        4.7565e-06            -24.77\n",
      "              H2CN        2.6024e-14        1.9166e-14            -34.25\n",
      "              HOCN        1.4815e-12        7.1092e-13           -62.033\n",
      "              HNCO        1.8709e-07        8.9776e-08           -62.033\n",
      "                N2           0.64319           0.47402           -25.802\n",
      "              C3H8        4.4645e-14        2.0902e-14           -83.009\n",
      "            CH3CHO        4.3715e-11        2.0488e-11           -79.962\n",
      "     [  +28 minor]        2.0327e-14        1.3846e-14  \n",
      "\n"
     ]
    }
   ],
   "source": [
    "# Hypothèse : Propane richesse 1.5 à l'équilibre chimique (à adapter)\n",
    "# données gri30\n",
    "gas_sortiefour = ct.Solution('gri30.yaml')\n",
    "# mélange frais à température et pression constante\n",
    "gas_sortiefour.set_equivalence_ratio(3, 'C3H8', 'O2:0.21, N2:0.79')\n",
    "gas_sortiefour.TP = 300, 101325\n",
    "# composition gaz brulés\n",
    "gas_sortiefour.equilibrate('HP')\n",
    "\n",
    "# on affiche la température pour info et on enregistre dans une variable la masse volumique du gaz\n",
    "gas_sortiefour()\n",
    "#print('température sortie four',gas_sortiefour.T)\n",
    "#rho_sortiefour = gas_sortiefour.density"
   ]
  },
  {
   "cell_type": "markdown",
   "id": "6e499901-3d14-4884-88c7-f6c54f18f6e4",
   "metadata": {},
   "source": [
    "## ETAPE 2 : Échange thermique à l'entrée de l'épurateur : Modification de la composition et température du gaz, déstockage de l'énergie des céramiques"
   ]
  },
  {
   "cell_type": "code",
   "execution_count": 13,
   "id": "dd0527f9-0489-4969-bf4b-11e907a3e204",
   "metadata": {},
   "outputs": [
    {
     "name": "stdout",
     "output_type": "stream",
     "text": [
      "température réacteur gaz 1245.663419786708 1245.663419786708\n"
     ]
    }
   ],
   "source": [
    "# création d'un gaz fictif pour échanger l'énergie avec le gaz sortie de four (ça remplace les céramiques).\n",
    "ceramique = ct.Solution('gri30.yaml')\n",
    "ceramique.TPX = 1500.0, ct.one_atm, \"O2:0.21, N2:0.79\"\n",
    "# création d'un réacteur contenant ce gaz \n",
    "reacteur_ceramique = ct.ConstPressureReactor(ceramique)\n",
    "# création d'un réacteur contenant le gaz sortant du four et entrant dans l'échangeur\n",
    "reacteur_gaz = ct.ConstPressureReactor(gas_sortiefour)\n",
    "# création de la paroi entre les deux réacteurs\n",
    "paroi = ct.Wall(reacteur_gaz, reacteur_ceramique, A=1.0, U=1000.0)\n",
    "echangeur = ct.ReactorNet([reacteur_gaz, reacteur_ceramique])\n",
    "\n",
    "time = 0.0\n",
    "n_steps = 1000\n",
    "for n in range(n_steps):\n",
    "    time += 4.e-4\n",
    "    echangeur.advance(time)\n",
    "#    print(n, time, reacteur_gaz.thermo.T, reacteur_gaz.thermo.P, reacteur_gaz.volume, reacteur_ceramique.thermo.T,\n",
    "#         reacteur_ceramique.thermo.P, reacteur_ceramique.volume)\n",
    "\n",
    "#gas_sortiefour()\n",
    "print('température réacteur gaz', reacteur_gaz.thermo.T, gas_sortiefour.T)"
   ]
  },
  {
   "cell_type": "markdown",
   "id": "268cffb6-b118-4e57-bca7-304ab85cc94c",
   "metadata": {},
   "source": [
    "## ETAPE 3 : Combustion dans l'épurateur : Modification de la composition et température du gaz, craquage du H2S"
   ]
  },
  {
   "cell_type": "code",
   "execution_count": 14,
   "id": "1769bf6f-ece0-4fd6-877a-6b9096cbda20",
   "metadata": {},
   "outputs": [
    {
     "name": "stdout",
     "output_type": "stream",
     "text": [
      "débit massique entrant chambre de combustion 0.10099223040266274\n",
      "débit massique air 0.41018962230387923\n",
      "température après mélange air 1574.13605552209 1574.13605552209\n"
     ]
    }
   ],
   "source": [
    "# création des réservoirs amonts et aval de la zone de mélange:\n",
    "# syntax pour créer un réservoir :\n",
    "# reservoir = ct.Reservoir(gas_reservoir)\n",
    "# réservoir amont contenant gaz sortant du four\n",
    "res_entree_comb= ct.Reservoir(gas_sortiefour)\n",
    "rho_entree_comb= gas_sortiefour.density\n",
    "# réservoir aval qu'on rempli initialement d'un gaz et qui va recevoir ce qui sort du mélangeur.\n",
    "res_sortie_comb = ct.Reservoir(gas_sortiefour)\n",
    "# on crée un réservoir contenant de l'air.\n",
    "air=ct.Solution('gri30.yaml')\n",
    "air.TPX = 300, 101325,'O2:0.21, N2:0.79'\n",
    "res_air = ct.Reservoir(air)\n",
    "# on enregistre dans une variable la masse volumique de l'air\n",
    "rho_air= air.density\n",
    "\n",
    "# création d'un réacteur/mélangeur rempli initialement d'un gaz.\n",
    "# syntax pour créer un réservoir :\n",
    "# reacteur = ct.IdealGasReactor(gaz_init)\n",
    "combustor = ct.IdealGasReactor(gas_sortiefour)\n",
    "\n",
    "# calcul des débits massiques entrant dans le réacteur et affichage:\n",
    "dem_entree_comb=rho_entree_comb*0.5\n",
    "print('débit massique entrant chambre de combustion',dem_entree_comb)\n",
    "dem_air=rho_air*0.35\n",
    "print('débit massique air',dem_air)\n",
    "\n",
    "# définition des entrées dans le réacteur:\n",
    "# syntax pour les entrées :\n",
    "# entree = ct.MassFlowController(reservoir, reacteur, mdot=débit_massique)\n",
    "mfc1 = ct.MassFlowController(res_entree_comb, combustor, mdot=dem_entree_comb)\n",
    "mfc2 = ct.MassFlowController(res_air, combustor, mdot=dem_air)\n",
    "\n",
    "# définition de la sortie du réacteur:\n",
    "# syntax pour la sortie :\n",
    "# sortie = ct.Valve(reacteur, reservoir, K=10.0) K est une constante de pertes de charges sans influence dans notre cas.\n",
    "outlet = ct.Valve(combustor, res_sortie_comb, K=10.0)\n",
    "\n",
    "# création du réseau de réacteur (nécessaire même pour un seul réacteur):\n",
    "# syntax :\n",
    "#sim = ct.ReactorNet([reacteur1, reacteur2])\n",
    "sim = ct.ReactorNet([combustor])\n",
    "\n",
    "# recherche de la solution stationnaire de l'état du réacteur:\n",
    "sim.advance_to_steady_state()\n",
    "# affichage résultat\n",
    "#print(r1.thermo.report())\n",
    "print('température après mélange air',combustor.thermo.T, gas_sortiefour.T)"
   ]
  },
  {
   "cell_type": "markdown",
   "id": "5072b628-14fe-44dd-9517-13246ffd4673",
   "metadata": {},
   "source": [
    "## ETAPE 4 : Échange thermique à la sortie de l'épurateur : Modification de la composition et température du gaz, stockage de l'énergie dans les céramiques"
   ]
  },
  {
   "cell_type": "code",
   "execution_count": null,
   "id": "325b5a38",
   "metadata": {},
   "outputs": [],
   "source": [
    "# a faire comme etape 2"
   ]
  },
  {
   "cell_type": "markdown",
   "id": "e08d8e46-b38d-4896-b207-06645717673f",
   "metadata": {},
   "source": [
    "## ETAPE HYPOTHETIQUE : Refroidissement par introduction d'eau liquide"
   ]
  },
  {
   "cell_type": "code",
   "execution_count": 15,
   "id": "fb571ef4",
   "metadata": {},
   "outputs": [
    {
     "name": "stdout",
     "output_type": "stream",
     "text": [
      "Température du gaz : 1574.13605552209 K\n",
      "Température de l'eau : 300.0 K\n",
      "Après mélange avec de l'eau liquide:\n",
      "Température du gaz : 304.8965085522349 K\n",
      "Température de l'eau : 300.06212883683895 K\n"
     ]
    }
   ],
   "source": [
    "#gas = ct.Solution('gri30.yaml')\n",
    "#gas.TP = 1500.0, ct.one_atm\n",
    "reactor_gas = ct.IdealGasReactor(gas_sortiefour)\n",
    "water = ct.Water()\n",
    "liquid_water_T = 300.0  # Température de l'eau en K\n",
    "liquid_water_P = ct.one_atm  # Pression de l'eau en Pa\n",
    "water.TP = liquid_water_T, liquid_water_P\n",
    "#water()\n",
    "print(f\"Température du gaz : {gas_sortiefour.T} K\")\n",
    "print(f\"Température de l'eau : {water.T} K\")\n",
    "reactor_liquid = ct.Reactor(water)\n",
    "connection = ct.Wall(reactor_gas, reactor_liquid, A=0.1, U=100.0)\n",
    "sim = ct.ReactorNet([reactor_gas, reactor_liquid])\n",
    "#sim = ct.ReactorNet([reactor_gas, reservoir_liquid, heat_exchanger])\n",
    "time_end = 100.0  # Temps final de la simulation en secondes\n",
    "sim.advance(time_end)\n",
    "#sim.advance_to_steady_state()\n",
    "# Imprimer les résultats\n",
    "print(\"Après mélange avec de l'eau liquide:\")\n",
    "print(f\"Température du gaz : {gas_sortiefour.T} K\")\n",
    "print(f\"Température de l'eau : {water.T} K\")"
   ]
  },
  {
   "cell_type": "markdown",
   "id": "8a6c8a62-5b54-4545-90d1-476f3e963a05",
   "metadata": {},
   "source": [
    "## Calcul sur plusieurs cycles des étapes précédentes"
   ]
  },
  {
   "cell_type": "code",
   "execution_count": null,
   "id": "00eb837e",
   "metadata": {},
   "outputs": [],
   "source": []
  }
 ],
 "metadata": {
  "kernelspec": {
   "display_name": "Python 3 (ipykernel)",
   "language": "python",
   "name": "python3"
  },
  "language_info": {
   "codemirror_mode": {
    "name": "ipython",
    "version": 3
   },
   "file_extension": ".py",
   "mimetype": "text/x-python",
   "name": "python",
   "nbconvert_exporter": "python",
   "pygments_lexer": "ipython3",
   "version": "3.8.18"
  }
 },
 "nbformat": 4,
 "nbformat_minor": 5
}
