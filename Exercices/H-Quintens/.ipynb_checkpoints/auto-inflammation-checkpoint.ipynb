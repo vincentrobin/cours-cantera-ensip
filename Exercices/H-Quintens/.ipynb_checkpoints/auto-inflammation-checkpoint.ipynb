{
 "cells": [
  {
   "cell_type": "code",
   "execution_count": null,
   "metadata": {},
   "outputs": [],
   "source": [
    "# -*- coding: utf-8 -*-\n",
    "\"\"\"\n",
    "Created on Thu May 19 12:50:38 2016\n",
    "\"\"\"\n",
    "\"\"\"\n",
    "Constant-pressure, adiabatic kinetics simulation.\n",
    "\"\"\"\n",
    "\n",
    "\"from __future__ import print_function\"\n",
    "import numpy as np\n",
    "\n",
    "import cantera as ct\n",
    "\n",
    "T0 = 500 #[K]\n",
    "P0 = 100000*1 # [bar]\n",
    "\n",
    "monfichier = open(\"TauAI_\"+str(T0)+\"K_\"+str(P0/100000)+\".txt\",\"w\")\n",
    "monfichier.write('%10s %10s %10s %14s \\n' % ('t [s]','T [K]','P [Pa]','u [J/kg]'))\n",
    "\n",
    "#chargement du schéma cinétique (gri30.cti, C3H8_1.cti, C3H8_2.cti)\n",
    "gri3 = ct.Solution('gri30.cti') \n",
    "\n",
    "#Définition des condition initiales\n",
    "gri3.TPX = T0, P0, 'C3H8:1, O2:4, N2:10'\n",
    "r = ct.IdealGasConstPressureReactor(gri3)\n",
    "    \n",
    "\n",
    "sim = ct.ReactorNet([r])\n",
    "time = 0.0\n",
    "times = np.zeros(100000)\n",
    "data = np.zeros((100000,4))\n",
    "\n",
    "print('%10s %10s %10s %14s' % ('t [s]','T [K]','P [Pa]','u [J/kg]'))\n",
    "for n in range(10000):\n",
    "    time += 1.e-05\n",
    "    sim.advance(time)\n",
    "    times[n] = time #* 1e1  # time in ms\n",
    "    data[n,0] = r.T\n",
    "    #data[n,1:] = r.thermo['nc10h22','o2','ar'].X\n",
    "    data[n,1:] = r.thermo['C3H8','o2','ar'].X\n",
    "    print('%10.3e %10.3f %10.3f %14.6e' % (sim.time, r.T,\n",
    "                                           r.thermo.P, r.thermo.u))                                    \n",
    "    monfichier.write('%10.3e %10.3f %10.3f %14.6e \\n' % (sim.time, r.T,\n",
    "                                           r.thermo.P, r.thermo.u))                                       \n",
    "monfichier.close                                       \n",
    "\n",
    "                \n",
    "\"\"\"\n",
    "@author: quintenh\n",
    "\"\"\""
   ]
  }
 ],
 "metadata": {
  "kernelspec": {
   "display_name": "Python 3",
   "language": "python",
   "name": "python3"
  },
  "language_info": {
   "codemirror_mode": {
    "name": "ipython",
    "version": 3
   },
   "file_extension": ".py",
   "mimetype": "text/x-python",
   "name": "python",
   "nbconvert_exporter": "python",
   "pygments_lexer": "ipython3",
   "version": "3.7.9"
  }
 },
 "nbformat": 4,
 "nbformat_minor": 2
}
