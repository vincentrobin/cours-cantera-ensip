{
 "cells": [
  {
   "cell_type": "markdown",
   "metadata": {},
   "source": [
    "# CANTERA MANIPULATION\n",
    "required librairies import"
   ]
  },
  {
   "cell_type": "code",
   "execution_count": 1,
   "metadata": {},
   "outputs": [],
   "source": [
    "import cantera as ct\n",
    "import numpy as np\n",
    "import matplotlib.pyplot as plt"
   ]
  },
  {
   "cell_type": "markdown",
   "metadata": {},
   "source": [
    "## gas manipulation\n",
    "gri30 is the mechanism file : and you can found a copy in \"cantara/data\" directory. You can use anyother mechanism file by uploading it on the server."
   ]
  },
  {
   "cell_type": "code",
   "execution_count": null,
   "metadata": {},
   "outputs": [],
   "source": [
    "# When using Cantera, the first thing you usually need is an object representing some phase of matter.\n",
    "# Here, we'll create a gas mixture:\n",
    "gas1 = ct.Solution('gri30.cti')\n",
    "# To view the state of the mixture, *call* the `gas1` object as if it were a function:\n",
    "gas1()"
   ]
  },
  {
   "cell_type": "code",
   "execution_count": null,
   "metadata": {},
   "outputs": [],
   "source": [
    "# to get temperature\n",
    "gas1.T"
   ]
  },
  {
   "cell_type": "code",
   "execution_count": null,
   "metadata": {},
   "outputs": [],
   "source": [
    "# to get enthalpie\n",
    "gas1.h"
   ]
  },
  {
   "cell_type": "code",
   "execution_count": null,
   "metadata": {},
   "outputs": [],
   "source": [
    "# to get the mole fraction of a species\n",
    "gas1['H2'].X"
   ]
  },
  {
   "cell_type": "code",
   "execution_count": null,
   "metadata": {},
   "outputs": [],
   "source": [
    "# to change the state\n",
    "gas1.TP = 500, 101325\n",
    "gas1()"
   ]
  },
  {
   "cell_type": "code",
   "execution_count": null,
   "metadata": {},
   "outputs": [],
   "source": [
    "#The composition can be set in terms of either mole fractions (X) or mass fractions (Y):\n",
    "gas1.X = 'CH4:1, O2:2, N2:7.52'\n",
    "gas1()"
   ]
  },
  {
   "cell_type": "code",
   "execution_count": null,
   "metadata": {},
   "outputs": [],
   "source": [
    "# The composition can be set also using the equivalence ratio function (phi=0.8 in this example):\n",
    "gas1.set_equivalence_ratio(0.8, 'CH4', 'O2:1, N2:3.76')\n",
    "gas1()"
   ]
  },
  {
   "cell_type": "markdown",
   "metadata": {},
   "source": [
    "## Chemical Equilibrium\n",
    "The chemical represents the burnt gas state (more precision will be given in a following courses)"
   ]
  },
  {
   "cell_type": "code",
   "execution_count": null,
   "metadata": {},
   "outputs": [],
   "source": [
    "# the enthalpie of the system and pressure is considered constant --> the temperature increases.\n",
    "gas1.equilibrate('HP')\n",
    "gas1()"
   ]
  },
  {
   "cell_type": "code",
   "execution_count": 6,
   "metadata": {},
   "outputs": [
    {
     "name": "stdout",
     "output_type": "stream",
     "text": [
      "\n",
      "  gri30:\n",
      "\n",
      "       temperature             400  K\n",
      "          pressure          101325  Pa\n",
      "           density        0.880691  kg/m^3\n",
      "  mean mol. weight         28.9069  amu\n",
      "\n",
      "                          1 kg            1 kmol\n",
      "                       -----------      ------------\n",
      "          enthalpy          -24782       -7.164e+05     J\n",
      "   internal energy     -1.3983e+05       -4.042e+06     J\n",
      "           entropy          7285.5        2.106e+05     J/K\n",
      "    Gibbs function      -2.939e+06       -8.496e+07     J\n",
      " heat capacity c_p          1076.6        3.112e+04     J/K\n",
      " heat capacity c_v          788.96        2.281e+04     J/K\n",
      "\n",
      "                           X                 Y          Chem. Pot. / RT\n",
      "                     -------------     ------------     ------------\n",
      "                O2       0.200549            0.222           -26.42\n",
      "              C2H6      0.0457875        0.0476293         -56.1313\n",
      "                N2       0.753663          0.73037         -23.4536\n",
      "     [  +50 minor]              0                0\n",
      "\n",
      "\n",
      "  gri30:\n",
      "\n",
      "       temperature         2098.66  K\n",
      "          pressure          101325  Pa\n",
      "           density        0.163831  kg/m^3\n",
      "  mean mol. weight         28.2135  amu\n",
      "\n",
      "                          1 kg            1 kmol\n",
      "                       -----------      ------------\n",
      "          enthalpy          -24782       -6.992e+05     J\n",
      "   internal energy     -6.4326e+05       -1.815e+07     J\n",
      "           entropy          9523.5        2.687e+05     J/K\n",
      "    Gibbs function     -2.0011e+07       -5.646e+08     J\n",
      " heat capacity c_p          1436.5        4.053e+04     J/K\n",
      " heat capacity c_v          1141.8        3.221e+04     J/K\n",
      "\n",
      "                           X                 Y          Chem. Pot. / RT\n",
      "                     -------------     ------------     ------------\n",
      "                H2    0.000401991      2.87227e-05         -27.4525\n",
      "                 H    6.20045e-05      2.21514e-06         -13.7262\n",
      "                 O    0.000266294      0.000151011         -16.1115\n",
      "                O2      0.0374315        0.0424537         -32.2231\n",
      "                OH     0.00242258       0.00146036         -29.8378\n",
      "               H2O       0.132423        0.0845564          -43.564\n",
      "               HO2    1.31176e-06      1.53462e-06         -45.9493\n",
      "              H2O2    6.54277e-08      7.88809e-08         -59.6755\n",
      "                CO     0.00131808       0.00130859         -40.8355\n",
      "               CO2      0.0880603         0.137364          -56.947\n",
      "               HCO    2.37634e-11      2.44413e-11         -54.5617\n",
      "              CH2O    2.16995e-13      2.30938e-13          -68.288\n",
      "                 N    3.01711e-09      1.49786e-09         -13.7024\n",
      "                NH    2.49745e-10       1.3291e-10         -27.4286\n",
      "               NH2    5.78585e-11      3.28582e-11         -41.1549\n",
      "               NH3    1.21561e-10      7.33779e-11         -54.8811\n",
      "               NNH    1.15984e-10      1.19305e-10          -41.131\n",
      "                NO     0.00405604       0.00431376         -29.8139\n",
      "               NO2    2.53613e-06      4.13548e-06         -45.9255\n",
      "               N2O    2.20072e-07      3.43312e-07         -43.5163\n",
      "               HNO    2.29629e-08      2.52423e-08         -43.5402\n",
      "               HCN    1.51058e-13      1.44699e-13         -52.1526\n",
      "              HOCN    4.06149e-14      6.19371e-14         -68.2641\n",
      "              HNCO    1.93136e-11      2.94529e-11         -68.2641\n",
      "               NCO    1.01099e-12      1.50562e-12         -54.5379\n",
      "                N2       0.733554         0.728355         -27.4048\n",
      "     [  +27 minor]    5.87878e-16      5.43271e-16\n",
      "\n"
     ]
    }
   ],
   "source": [
    "# As this last command generates many species (all the sepcies present in the chemcial mechanism file gri30.cti).\n",
    "# It is possible to force the program to work only with a few set of species by using\n",
    "# the follonwing commands instead of\n",
    "gas1 = ct.Solution('gri30.cti')\n",
    "#majorspeciesname = {S.name: S for S in ct.Species.listFromFile('gri30.cti')}\n",
    "#majorspecies = [majorspeciesname[S] for S in ('C2H6','O2','N2','CO2','H2O')]\n",
    "#gas1 = ct.Solution(thermo='IdealGas', species=majorspecies)\n",
    "\n",
    "gas1.TPX = 400, 101325,'C2H6:1, O2:4.38, N2:16.46'\n",
    "#gas1.set_equivalence_ratio(0.8, 'C2H6', 'O2:1, N2:3.76')\n",
    "gas1()\n",
    "gas1.equilibrate('HP')\n",
    "gas1()"
   ]
  },
  {
   "cell_type": "code",
   "execution_count": null,
   "metadata": {},
   "outputs": [],
   "source": []
  }
 ],
 "metadata": {
  "kernelspec": {
   "display_name": "Python 3",
   "language": "python",
   "name": "python3"
  },
  "language_info": {
   "codemirror_mode": {
    "name": "ipython",
    "version": 3
   },
   "file_extension": ".py",
   "mimetype": "text/x-python",
   "name": "python",
   "nbconvert_exporter": "python",
   "pygments_lexer": "ipython3",
   "version": "3.7.9"
  }
 },
 "nbformat": 4,
 "nbformat_minor": 1
}
