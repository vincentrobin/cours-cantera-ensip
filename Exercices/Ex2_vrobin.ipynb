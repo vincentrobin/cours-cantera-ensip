{
 "cells": [
  {
   "cell_type": "markdown",
   "metadata": {},
   "source": [
    "# Flame Temperature\n",
    "\n",
    "This example demonstrates calculation of the adiabatic flame temperature for a methane/air mixture."
   ]
  },
  {
   "cell_type": "code",
   "execution_count": null,
   "metadata": {},
   "outputs": [],
   "source": [
    "%matplotlib notebook\n",
    "import cantera as ct\n",
    "import numpy as np\n",
    "import matplotlib.pyplot as plt"
   ]
  },
  {
   "cell_type": "markdown",
   "metadata": {},
   "source": [
    "## Chemical reaction considered (complete combustion)\n",
    "\n",
    "The equation of a lean methane/air mixture ($\\phi < 1$ or $z > z_s$) is:\n",
    "\n",
    "$$\\mathrm{C_3H_8 + z (0.21 O_2 + 0.79 N_2) \\rightarrow CO_2 +  2 H_2O + 0.21 (z - z_s) O_2 + 0.79  z  N_2}$$\n",
    "\n",
    "For a rich mixture ($\\phi > 1$ or $z < z_s$), this becomes:\n",
    "\n",
    "$$\\mathrm{ C_3H_8 + z (0.21 O_2 + 0.79 N_2) \\rightarrow (z/z_s) CO_2 + 2 (z/z_s) H_2O + (1-z/z_s) CH_4 + 0.79  z  N_2}$$\n",
    "\n",
    "To find the flame temperature resulting from these reactions using Cantera, we create a gas object containing only the species in the above equations, and then use the `equilibrate()` function to find the resulting mixture composition and temperature, taking advantage of the fact that equilibrium will strongly favor conversion of the fuel molecule."
   ]
  },
  {
   "cell_type": "code",
   "execution_count": null,
   "metadata": {},
   "outputs": [],
   "source": [
    "# Get all of the Species objects defined in the GRI 3.0 mechanism\n",
    "species = {S.name: S for S in ct.Species.listFromFile('gri30.cti')}\n",
    "\n",
    "# Create an IdealGas object with species rconsidered\n",
    "complete_species = [species[S] for S in ('C3H8','O2','N2','CO2','H2O')]\n",
    "gas1 = ct.Solution(thermo='IdealGas', species=complete_species)\n",
    "\n",
    "z = np.linspace(5, 40, 100)\n",
    "T_complete = np.zeros(z.shape)\n",
    "for i in range(len(z)):\n",
    "    X = {'C3H8':1.0, 'O2': 0.21*z[i], 'N2': 0.79*z[i]}\n",
    "    gas1.TPX = 300, ct.one_atm, X\n",
    "    gas1.equilibrate('HP')\n",
    "    T_complete[i] = gas1.T"
   ]
  },
  {
   "cell_type": "code",
   "execution_count": null,
   "metadata": {},
   "outputs": [],
   "source": [
    "plt.plot(z, T_complete, label='complete combustion', lw=2)\n",
    "plt.grid(True)\n",
    "plt.xlabel('$z$ mol air / mol C3H8')\n",
    "plt.ylabel('Temperature [K]');"
   ]
  },
  {
   "cell_type": "code",
   "execution_count": null,
   "metadata": {},
   "outputs": [],
   "source": []
  }
 ],
 "metadata": {
  "kernelspec": {
   "display_name": "Python 3",
   "language": "python",
   "name": "python3"
  },
  "language_info": {
   "codemirror_mode": {
    "name": "ipython",
    "version": 3
   },
   "file_extension": ".py",
   "mimetype": "text/x-python",
   "name": "python",
   "nbconvert_exporter": "python",
   "pygments_lexer": "ipython3",
   "version": "3.7.9"
  }
 },
 "nbformat": 4,
 "nbformat_minor": 1
}
